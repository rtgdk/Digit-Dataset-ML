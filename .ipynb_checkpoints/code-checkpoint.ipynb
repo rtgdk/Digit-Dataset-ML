{
 "cells": [
  {
   "cell_type": "code",
   "execution_count": 1,
   "metadata": {},
   "outputs": [
    {
     "data": {
      "text/plain": [
       "{'DESCR': \"Optical Recognition of Handwritten Digits Data Set\\n===================================================\\n\\nNotes\\n-----\\nData Set Characteristics:\\n    :Number of Instances: 5620\\n    :Number of Attributes: 64\\n    :Attribute Information: 8x8 image of integer pixels in the range 0..16.\\n    :Missing Attribute Values: None\\n    :Creator: E. Alpaydin (alpaydin '@' boun.edu.tr)\\n    :Date: July; 1998\\n\\nThis is a copy of the test set of the UCI ML hand-written digits datasets\\nhttp://archive.ics.uci.edu/ml/datasets/Optical+Recognition+of+Handwritten+Digits\\n\\nThe data set contains images of hand-written digits: 10 classes where\\neach class refers to a digit.\\n\\nPreprocessing programs made available by NIST were used to extract\\nnormalized bitmaps of handwritten digits from a preprinted form. From a\\ntotal of 43 people, 30 contributed to the training set and different 13\\nto the test set. 32x32 bitmaps are divided into nonoverlapping blocks of\\n4x4 and the number of on pixels are counted in each block. This generates\\nan input matrix of 8x8 where each element is an integer in the range\\n0..16. This reduces dimensionality and gives invariance to small\\ndistortions.\\n\\nFor info on NIST preprocessing routines, see M. D. Garris, J. L. Blue, G.\\nT. Candela, D. L. Dimmick, J. Geist, P. J. Grother, S. A. Janet, and C.\\nL. Wilson, NIST Form-Based Handprint Recognition System, NISTIR 5469,\\n1994.\\n\\nReferences\\n----------\\n  - C. Kaynak (1995) Methods of Combining Multiple Classifiers and Their\\n    Applications to Handwritten Digit Recognition, MSc Thesis, Institute of\\n    Graduate Studies in Science and Engineering, Bogazici University.\\n  - E. Alpaydin, C. Kaynak (1998) Cascading Classifiers, Kybernetika.\\n  - Ken Tang and Ponnuthurai N. Suganthan and Xi Yao and A. Kai Qin.\\n    Linear dimensionalityreduction using relevance weighted LDA. School of\\n    Electrical and Electronic Engineering Nanyang Technological University.\\n    2005.\\n  - Claudio Gentile. A New Approximate Maximal Margin Classification\\n    Algorithm. NIPS. 2000.\\n\",\n",
       " 'data': array([[  0.,   0.,   5., ...,   0.,   0.,   0.],\n",
       "        [  0.,   0.,   0., ...,  10.,   0.,   0.],\n",
       "        [  0.,   0.,   0., ...,  16.,   9.,   0.],\n",
       "        ..., \n",
       "        [  0.,   0.,   1., ...,   6.,   0.,   0.],\n",
       "        [  0.,   0.,   2., ...,  12.,   0.,   0.],\n",
       "        [  0.,   0.,  10., ...,  12.,   1.,   0.]]),\n",
       " 'images': array([[[  0.,   0.,   5., ...,   1.,   0.,   0.],\n",
       "         [  0.,   0.,  13., ...,  15.,   5.,   0.],\n",
       "         [  0.,   3.,  15., ...,  11.,   8.,   0.],\n",
       "         ..., \n",
       "         [  0.,   4.,  11., ...,  12.,   7.,   0.],\n",
       "         [  0.,   2.,  14., ...,  12.,   0.,   0.],\n",
       "         [  0.,   0.,   6., ...,   0.,   0.,   0.]],\n",
       " \n",
       "        [[  0.,   0.,   0., ...,   5.,   0.,   0.],\n",
       "         [  0.,   0.,   0., ...,   9.,   0.,   0.],\n",
       "         [  0.,   0.,   3., ...,   6.,   0.,   0.],\n",
       "         ..., \n",
       "         [  0.,   0.,   1., ...,   6.,   0.,   0.],\n",
       "         [  0.,   0.,   1., ...,   6.,   0.,   0.],\n",
       "         [  0.,   0.,   0., ...,  10.,   0.,   0.]],\n",
       " \n",
       "        [[  0.,   0.,   0., ...,  12.,   0.,   0.],\n",
       "         [  0.,   0.,   3., ...,  14.,   0.,   0.],\n",
       "         [  0.,   0.,   8., ...,  16.,   0.,   0.],\n",
       "         ..., \n",
       "         [  0.,   9.,  16., ...,   0.,   0.,   0.],\n",
       "         [  0.,   3.,  13., ...,  11.,   5.,   0.],\n",
       "         [  0.,   0.,   0., ...,  16.,   9.,   0.]],\n",
       " \n",
       "        ..., \n",
       "        [[  0.,   0.,   1., ...,   1.,   0.,   0.],\n",
       "         [  0.,   0.,  13., ...,   2.,   1.,   0.],\n",
       "         [  0.,   0.,  16., ...,  16.,   5.,   0.],\n",
       "         ..., \n",
       "         [  0.,   0.,  16., ...,  15.,   0.,   0.],\n",
       "         [  0.,   0.,  15., ...,  16.,   0.,   0.],\n",
       "         [  0.,   0.,   2., ...,   6.,   0.,   0.]],\n",
       " \n",
       "        [[  0.,   0.,   2., ...,   0.,   0.,   0.],\n",
       "         [  0.,   0.,  14., ...,  15.,   1.,   0.],\n",
       "         [  0.,   4.,  16., ...,  16.,   7.,   0.],\n",
       "         ..., \n",
       "         [  0.,   0.,   0., ...,  16.,   2.,   0.],\n",
       "         [  0.,   0.,   4., ...,  16.,   2.,   0.],\n",
       "         [  0.,   0.,   5., ...,  12.,   0.,   0.]],\n",
       " \n",
       "        [[  0.,   0.,  10., ...,   1.,   0.,   0.],\n",
       "         [  0.,   2.,  16., ...,   1.,   0.,   0.],\n",
       "         [  0.,   0.,  15., ...,  15.,   0.,   0.],\n",
       "         ..., \n",
       "         [  0.,   4.,  16., ...,  16.,   6.,   0.],\n",
       "         [  0.,   8.,  16., ...,  16.,   8.,   0.],\n",
       "         [  0.,   1.,   8., ...,  12.,   1.,   0.]]]),\n",
       " 'target': array([0, 1, 2, ..., 8, 9, 8]),\n",
       " 'target_names': array([0, 1, 2, 3, 4, 5, 6, 7, 8, 9])}"
      ]
     },
     "execution_count": 1,
     "metadata": {},
     "output_type": "execute_result"
    }
   ],
   "source": [
    "from sklearn import datasets\n",
    "digits = datasets.load_digits()\n",
    "digits"
   ]
  },
  {
   "cell_type": "code",
   "execution_count": 3,
   "metadata": {},
   "outputs": [
    {
     "data": {
      "text/plain": [
       "array([[[  0.,   0.,   5., ...,   1.,   0.,   0.],\n",
       "        [  0.,   0.,  13., ...,  15.,   5.,   0.],\n",
       "        [  0.,   3.,  15., ...,  11.,   8.,   0.],\n",
       "        ..., \n",
       "        [  0.,   4.,  11., ...,  12.,   7.,   0.],\n",
       "        [  0.,   2.,  14., ...,  12.,   0.,   0.],\n",
       "        [  0.,   0.,   6., ...,   0.,   0.,   0.]],\n",
       "\n",
       "       [[  0.,   0.,   0., ...,   5.,   0.,   0.],\n",
       "        [  0.,   0.,   0., ...,   9.,   0.,   0.],\n",
       "        [  0.,   0.,   3., ...,   6.,   0.,   0.],\n",
       "        ..., \n",
       "        [  0.,   0.,   1., ...,   6.,   0.,   0.],\n",
       "        [  0.,   0.,   1., ...,   6.,   0.,   0.],\n",
       "        [  0.,   0.,   0., ...,  10.,   0.,   0.]],\n",
       "\n",
       "       [[  0.,   0.,   0., ...,  12.,   0.,   0.],\n",
       "        [  0.,   0.,   3., ...,  14.,   0.,   0.],\n",
       "        [  0.,   0.,   8., ...,  16.,   0.,   0.],\n",
       "        ..., \n",
       "        [  0.,   9.,  16., ...,   0.,   0.,   0.],\n",
       "        [  0.,   3.,  13., ...,  11.,   5.,   0.],\n",
       "        [  0.,   0.,   0., ...,  16.,   9.,   0.]],\n",
       "\n",
       "       ..., \n",
       "       [[  0.,   0.,   1., ...,   1.,   0.,   0.],\n",
       "        [  0.,   0.,  13., ...,   2.,   1.,   0.],\n",
       "        [  0.,   0.,  16., ...,  16.,   5.,   0.],\n",
       "        ..., \n",
       "        [  0.,   0.,  16., ...,  15.,   0.,   0.],\n",
       "        [  0.,   0.,  15., ...,  16.,   0.,   0.],\n",
       "        [  0.,   0.,   2., ...,   6.,   0.,   0.]],\n",
       "\n",
       "       [[  0.,   0.,   2., ...,   0.,   0.,   0.],\n",
       "        [  0.,   0.,  14., ...,  15.,   1.,   0.],\n",
       "        [  0.,   4.,  16., ...,  16.,   7.,   0.],\n",
       "        ..., \n",
       "        [  0.,   0.,   0., ...,  16.,   2.,   0.],\n",
       "        [  0.,   0.,   4., ...,  16.,   2.,   0.],\n",
       "        [  0.,   0.,   5., ...,  12.,   0.,   0.]],\n",
       "\n",
       "       [[  0.,   0.,  10., ...,   1.,   0.,   0.],\n",
       "        [  0.,   2.,  16., ...,   1.,   0.,   0.],\n",
       "        [  0.,   0.,  15., ...,  15.,   0.,   0.],\n",
       "        ..., \n",
       "        [  0.,   4.,  16., ...,  16.,   6.,   0.],\n",
       "        [  0.,   8.,  16., ...,  16.,   8.,   0.],\n",
       "        [  0.,   1.,   8., ...,  12.,   1.,   0.]]])"
      ]
     },
     "execution_count": 3,
     "metadata": {},
     "output_type": "execute_result"
    }
   ],
   "source": [
    "digits[\"images\"]"
   ]
  },
  {
   "cell_type": "code",
   "execution_count": 9,
   "metadata": {},
   "outputs": [
    {
     "data": {
      "image/png": "[encoded data removed]",
      "text/plain": [
       "<matplotlib.figure.Figure at 0x7f90a52a8be0>"
      ]
     },
     "metadata": {},
     "output_type": "display_data"
    }
   ],
   "source": [
    "import matplotlib.pyplot as plt\n",
    "images_and_labels = list(zip(digits.images, digits.target))\n",
    "for index, (image, label) in enumerate(images_and_labels[:8]):\n",
    "    plt.subplot(2, 4, index + 1)\n",
    "    plt.axis('off')\n",
    "    plt.imshow(image, cmap=plt.cm.gray_r, interpolation='nearest')\n",
    "    plt.title('Training: %i' % label)\n",
    "plt.show()"
   ]
  },
  {
   "cell_type": "code",
   "execution_count": 11,
   "metadata": {
    "collapsed": true
   },
   "outputs": [],
   "source": [
    "from sklearn import svm\n",
    "n_samples = len(digits.images)\n",
    "data = digits.images.reshape((n_samples, -1))\n",
    "clf = svm.SVC(gamma=0.001, C=100.)"
   ]
  },
  {
   "cell_type": "code",
   "execution_count": 13,
   "metadata": {},
   "outputs": [],
   "source": [
    "clf.fit(data[:n_samples // 2], digits.target[:n_samples // 2])\n",
    "expected = digits.target[n_samples // 2:]\n",
    "predicted = clf.predict(data[n_samples // 2:])"
   ]
  },
  {
   "cell_type": "code",
   "execution_count": 15,
   "metadata": {},
   "outputs": [
    {
     "name": "stdout",
     "output_type": "stream",
     "text": [
      "Classification report for classifier SVC(C=100.0, cache_size=200, class_weight=None, coef0=0.0,\n",
      "  decision_function_shape='ovr', degree=3, gamma=0.001, kernel='rbf',\n",
      "  max_iter=-1, probability=False, random_state=None, shrinking=True,\n",
      "  tol=0.001, verbose=False):\n",
      "             precision    recall  f1-score   support\n",
      "\n",
      "          0       1.00      0.99      0.99        88\n",
      "          1       0.99      0.96      0.97        91\n",
      "          2       0.99      0.99      0.99        86\n",
      "          3       0.98      0.90      0.94        91\n",
      "          4       0.99      0.96      0.97        92\n",
      "          5       0.95      0.96      0.95        91\n",
      "          6       0.99      0.99      0.99        91\n",
      "          7       0.98      0.99      0.98        89\n",
      "          8       0.94      1.00      0.97        88\n",
      "          9       0.92      0.98      0.95        92\n",
      "\n",
      "avg / total       0.97      0.97      0.97       899\n",
      "\n",
      "\n",
      "Confusion matrix:\n",
      "[[87  0  0  0  1  0  0  0  0  0]\n",
      " [ 0 87  1  0  0  0  0  0  2  1]\n",
      " [ 0  0 85  1  0  0  0  0  0  0]\n",
      " [ 0  0  0 82  0  3  0  2  4  0]\n",
      " [ 0  0  0  0 88  0  0  0  0  4]\n",
      " [ 0  0  0  0  0 87  1  0  0  3]\n",
      " [ 0  1  0  0  0  0 90  0  0  0]\n",
      " [ 0  0  0  0  0  1  0 88  0  0]\n",
      " [ 0  0  0  0  0  0  0  0 88  0]\n",
      " [ 0  0  0  1  0  1  0  0  0 90]]\n"
     ]
    },
    {
     "data": {
      "image/png": "[encoded data removed]",
      "text/plain": [
       "<matplotlib.figure.Figure at 0x7f90a400a5f8>"
      ]
     },
     "metadata": {},
     "output_type": "display_data"
    }
   ],
   "source": [
    "from sklearn import metrics\n",
    "print(\"Classification report for classifier %s:\\n%s\\n\"\n",
    "      % (clf, metrics.classification_report(expected, predicted)))\n",
    "print(\"Confusion matrix:\\n%s\" % metrics.confusion_matrix(expected, predicted))\n",
    "\n",
    "images_and_predictions = list(zip(digits.images[n_samples // 2:], predicted))\n",
    "for index, (image, prediction) in enumerate(images_and_predictions[:4]):\n",
    "    plt.subplot(2, 4, index + 5)\n",
    "    plt.axis('off')\n",
    "    plt.imshow(image, cmap=plt.cm.gray_r, interpolation='nearest')\n",
    "    plt.title('Prediction: %i' % prediction)\n",
    "\n",
    "plt.show()"
   ]
  },
  {
   "cell_type": "code",
   "execution_count": 16,
   "metadata": {},
   "outputs": [
    {
     "data": {
      "text/plain": [
       "array([8])"
      ]
     },
     "execution_count": 16,
     "metadata": {},
     "output_type": "execute_result"
    }
   ],
   "source": [
    "clf.predict(digits.data[-1:])"
   ]
  },
  {
   "cell_type": "code",
   "execution_count": null,
   "metadata": {
    "collapsed": true
   },
   "outputs": [],
   "source": []
  }
 ],
 "metadata": {
  "kernelspec": {
   "display_name": "Python 3",
   "language": "python",
   "name": "python3"
  },
  "language_info": {
   "codemirror_mode": {
    "name": "ipython",
    "version": 3
   },
   "file_extension": ".py",
   "mimetype": "text/x-python",
   "name": "python",
   "nbconvert_exporter": "python",
   "pygments_lexer": "ipython3",
   "version": "3.5.2"
  }
 },
 "nbformat": 4,
 "nbformat_minor": 2
}
